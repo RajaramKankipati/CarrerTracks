{
  "nbformat": 4,
  "nbformat_minor": 0,
  "metadata": {
    "colab": {
      "name": "if-elif-else.ipynb",
      "provenance": [],
      "include_colab_link": true
    },
    "kernelspec": {
      "display_name": "Python 3",
      "language": "python",
      "name": "python3"
    }
  },
  "cells": [
    {
      "cell_type": "markdown",
      "metadata": {
        "id": "view-in-github",
        "colab_type": "text"
      },
      "source": [
        "<a href=\"https://colab.research.google.com/github/RajaramKankipati/Udemy/blob/master/if_elif_else.ipynb\" target=\"_parent\"><img src=\"https://colab.research.google.com/assets/colab-badge.svg\" alt=\"Open In Colab\"/></a>"
      ]
    },
    {
      "cell_type": "markdown",
      "metadata": {
        "id": "I9BsPCXXefQ_",
        "colab_type": "text"
      },
      "source": [
        "# Python if ... else Statement"
      ]
    },
    {
      "cell_type": "markdown",
      "metadata": {
        "id": "KcH_APWeefQ_",
        "colab_type": "text"
      },
      "source": [
        "The **if…elif…else** statement is used in Python for decision making."
      ]
    },
    {
      "cell_type": "markdown",
      "metadata": {
        "id": "B4c_NjAlefRA",
        "colab_type": "text"
      },
      "source": [
        "# if statement syntax"
      ]
    },
    {
      "cell_type": "markdown",
      "metadata": {
        "id": "kJmNXz9_efRB",
        "colab_type": "text"
      },
      "source": [
        "    if test expression:\n",
        "\n",
        "        statement(s)"
      ]
    },
    {
      "cell_type": "markdown",
      "metadata": {
        "id": "5P8FX06GefRB",
        "colab_type": "text"
      },
      "source": [
        "The program evaluates the test expression and will execute statement(s) only if the text expression is True.\n",
        "\n",
        "If the text expression is False, the statement(s) is not executed."
      ]
    },
    {
      "cell_type": "markdown",
      "metadata": {
        "id": "2j1VzC47efRD",
        "colab_type": "text"
      },
      "source": [
        "Python interprets non-zero values as True. None and 0 are interpreted as False."
      ]
    },
    {
      "cell_type": "markdown",
      "metadata": {
        "id": "ZoHX8fhdefRD",
        "colab_type": "text"
      },
      "source": [
        "# Flow Chart"
      ]
    },
    {
      "cell_type": "markdown",
      "metadata": {
        "id": "PAtC2WHdefRE",
        "colab_type": "text"
      },
      "source": [
        "![title](Python_if_statement.jpg)"
      ]
    },
    {
      "cell_type": "markdown",
      "metadata": {
        "id": "Q5ARdqzUefRE",
        "colab_type": "text"
      },
      "source": [
        "# Example"
      ]
    },
    {
      "cell_type": "code",
      "metadata": {
        "id": "6mBW6suCefRF",
        "colab_type": "code",
        "outputId": "72e798df-efe6-44b0-a265-dcf4ed65c853",
        "colab": {}
      },
      "source": [
        "num = 10\n",
        "\n",
        "# try 0, -1 and None\n",
        "if None:\n",
        "    print(\"Number is positive\")\n",
        "print(\"This will print always\")      #This print statement always print\n",
        "\n",
        "#change number \n"
      ],
      "execution_count": 0,
      "outputs": [
        {
          "output_type": "stream",
          "text": [
            "This will print always\n"
          ],
          "name": "stdout"
        }
      ]
    },
    {
      "cell_type": "markdown",
      "metadata": {
        "id": "np1GauhCefRK",
        "colab_type": "text"
      },
      "source": [
        "# if ... else Statement"
      ]
    },
    {
      "cell_type": "markdown",
      "metadata": {
        "id": "Y5F7zmmEefRK",
        "colab_type": "text"
      },
      "source": [
        "# Syntax:"
      ]
    },
    {
      "cell_type": "markdown",
      "metadata": {
        "id": "y8jdfyhZefRL",
        "colab_type": "text"
      },
      "source": [
        "    if test expression:\n",
        "    \n",
        "        Body of if\n",
        "\n",
        "    else: \n",
        "    \n",
        "        Body of else"
      ]
    },
    {
      "cell_type": "markdown",
      "metadata": {
        "id": "qhlErfqoefRM",
        "colab_type": "text"
      },
      "source": [
        "# Flow Chart"
      ]
    },
    {
      "cell_type": "markdown",
      "metadata": {
        "id": "yZzUkQw4efRN",
        "colab_type": "text"
      },
      "source": [
        "![title](Python_if_else_statement.jpg)"
      ]
    },
    {
      "cell_type": "markdown",
      "metadata": {
        "id": "kJe4WdEyefRN",
        "colab_type": "text"
      },
      "source": [
        "# Example"
      ]
    },
    {
      "cell_type": "code",
      "metadata": {
        "id": "pC8kDvb2efRO",
        "colab_type": "code",
        "outputId": "bf77eac7-736c-406f-a561-c8ef8cca83c6",
        "colab": {}
      },
      "source": [
        "num = 10\n",
        "if num > 0:\n",
        "    print(\"Positive number\")\n",
        "else:\n",
        "    print(\"Negative Number\")"
      ],
      "execution_count": 0,
      "outputs": [
        {
          "output_type": "stream",
          "text": [
            "Positive number\n"
          ],
          "name": "stdout"
        }
      ]
    },
    {
      "cell_type": "markdown",
      "metadata": {
        "id": "FhL5F5DJefRR",
        "colab_type": "text"
      },
      "source": [
        "# if...elif...else Statement"
      ]
    },
    {
      "cell_type": "markdown",
      "metadata": {
        "id": "n5gOJbuUefRS",
        "colab_type": "text"
      },
      "source": [
        "# Syntax:"
      ]
    },
    {
      "cell_type": "markdown",
      "metadata": {
        "id": "NK9FpkhiefRT",
        "colab_type": "text"
      },
      "source": [
        "    if test expression:\n",
        "\n",
        "        Body of if\n",
        "    elif test expression:\n",
        "    \n",
        "        Body of elif\n",
        "    else: \n",
        "    \n",
        "        Body of else"
      ]
    },
    {
      "cell_type": "markdown",
      "metadata": {
        "id": "TPvm-6d9efRT",
        "colab_type": "text"
      },
      "source": [
        "# Flow Chart"
      ]
    },
    {
      "cell_type": "markdown",
      "metadata": {
        "id": "88YUH1IMefRU",
        "colab_type": "text"
      },
      "source": [
        "![title](Python_if_elif_else_statement.jpg)"
      ]
    },
    {
      "cell_type": "markdown",
      "metadata": {
        "id": "_PsCmnflefRU",
        "colab_type": "text"
      },
      "source": [
        "# Example:"
      ]
    },
    {
      "cell_type": "code",
      "metadata": {
        "id": "NgIKVa1vefRV",
        "colab_type": "code",
        "outputId": "d8cba0f9-d26d-4163-fbf9-5aceb05b4112",
        "colab": {}
      },
      "source": [
        "num = 0\n",
        "\n",
        "if num > 0:\n",
        "    print(\"Positive number\")\n",
        "elif num == 0:\n",
        "    print(\"ZERO\")\n",
        "else:\n",
        "    print(\"Negative Number\")"
      ],
      "execution_count": 0,
      "outputs": [
        {
          "output_type": "stream",
          "text": [
            "ZERO\n"
          ],
          "name": "stdout"
        }
      ]
    },
    {
      "cell_type": "markdown",
      "metadata": {
        "id": "Sp98_OGyefRZ",
        "colab_type": "text"
      },
      "source": [
        "# Nested if Statements"
      ]
    },
    {
      "cell_type": "markdown",
      "metadata": {
        "id": "Ss3GbcNTefRZ",
        "colab_type": "text"
      },
      "source": [
        "We can have a if...elif...else statement inside another if...elif...else statement. This is called nesting in computer programming."
      ]
    },
    {
      "cell_type": "markdown",
      "metadata": {
        "id": "_WOwMeijefRZ",
        "colab_type": "text"
      },
      "source": [
        "# Example:"
      ]
    },
    {
      "cell_type": "code",
      "metadata": {
        "id": "XSjHkI2RefRa",
        "colab_type": "code",
        "outputId": "aab86f49-a9d6-4643-ec20-5a9d00df9237",
        "colab": {}
      },
      "source": [
        "num = 10.5\n",
        "\n",
        "if num >= 0:\n",
        "    if num == 0:\n",
        "        print(\"Zero\")\n",
        "    else:\n",
        "        print(\"Positive number\")\n",
        "else:\n",
        "    print(\"Negative Number\")"
      ],
      "execution_count": 0,
      "outputs": [
        {
          "output_type": "stream",
          "text": [
            "Positive number\n"
          ],
          "name": "stdout"
        }
      ]
    },
    {
      "cell_type": "markdown",
      "metadata": {
        "id": "29bb4cB2efRc",
        "colab_type": "text"
      },
      "source": [
        "# Python program to find the largest element among three Numbers"
      ]
    },
    {
      "cell_type": "code",
      "metadata": {
        "id": "wNkB5Fz1efRd",
        "colab_type": "code",
        "outputId": "7f6c6563-784d-40a6-cafd-eb999ed77e2a",
        "colab": {}
      },
      "source": [
        "num1 = 10\n",
        "num2 = 50\n",
        "num3 = 15\n",
        "\n",
        "if (num1 >= num2) and (num1 >= num3):           #logical operator   and\n",
        "    largest = num1\n",
        "elif (num2 >= num1) and (num2 >= num3):\n",
        "    largest = num2\n",
        "else:\n",
        "    largest = num3\n",
        "print(\"Largest element among three numbers is: {}\".format(largest))"
      ],
      "execution_count": 0,
      "outputs": [
        {
          "output_type": "stream",
          "text": [
            "Largest element among three numbers is: 50\n"
          ],
          "name": "stdout"
        }
      ]
    },
    {
      "cell_type": "code",
      "metadata": {
        "id": "cjzyFKiMefRf",
        "colab_type": "code",
        "colab": {}
      },
      "source": [
        ""
      ],
      "execution_count": 0,
      "outputs": []
    }
  ]
}