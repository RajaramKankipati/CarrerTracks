{
  "nbformat": 4,
  "nbformat_minor": 0,
  "metadata": {
    "kernelspec": {
      "display_name": "Python 2",
      "language": "python",
      "name": "python2"
    },
    "language_info": {
      "codemirror_mode": {
        "name": "ipython",
        "version": 2
      },
      "file_extension": ".py",
      "mimetype": "text/x-python",
      "name": "python",
      "nbconvert_exporter": "python",
      "pygments_lexer": "ipython2",
      "version": "2.7.13"
    },
    "colab": {
      "name": "1.3.ipynb",
      "provenance": [],
      "include_colab_link": true
    }
  },
  "cells": [
    {
      "cell_type": "markdown",
      "metadata": {
        "id": "view-in-github",
        "colab_type": "text"
      },
      "source": [
        "<a href=\"https://colab.research.google.com/github/RajaramKankipati/Udemy/blob/master/1.2%20Comments.ipynb\" target=\"_parent\"><img src=\"https://colab.research.google.com/assets/colab-badge.svg\" alt=\"Open In Colab\"/></a>"
      ]
    },
    {
      "cell_type": "markdown",
      "metadata": {
        "id": "NzaICI4LA1OY",
        "colab_type": "text"
      },
      "source": [
        "# Python Comments"
      ]
    },
    {
      "cell_type": "markdown",
      "metadata": {
        "id": "7TOwc2tjA1OZ",
        "colab_type": "text"
      },
      "source": [
        "Comments are lines that exist in computer programs that are ignored by compilers and interpreters. \n",
        "\n",
        "Including comments in programs makes code more readable for humans as it provides some information or explanation about what each part of a program is doing.\n",
        "\n",
        "In general, it is a good idea to write comments while you are writing or updating a program as it is easy to forget your thought process later on, and comments written later may be less useful in the long term. "
      ]
    },
    {
      "cell_type": "markdown",
      "metadata": {
        "id": "y2xOM1PlA1Oa",
        "colab_type": "text"
      },
      "source": [
        "In Python, we use the hash (#) symbol to start writing a comment."
      ]
    },
    {
      "cell_type": "code",
      "metadata": {
        "id": "fDiIHoUaA1Ob",
        "colab_type": "code",
        "colab": {},
        "outputId": "c0e825b4-645a-42eb-a1df-51a6b5e923d9"
      },
      "source": [
        "#Print Hello, world to console\n",
        "print(\"Hello, world\")"
      ],
      "execution_count": 0,
      "outputs": [
        {
          "output_type": "stream",
          "text": [
            "Hello, world\n"
          ],
          "name": "stdout"
        }
      ]
    },
    {
      "cell_type": "markdown",
      "metadata": {
        "id": "xmEVLvrzA1Om",
        "colab_type": "text"
      },
      "source": [
        "# Multi Line Comments"
      ]
    },
    {
      "cell_type": "markdown",
      "metadata": {
        "id": "YI7WiNlCA1On",
        "colab_type": "text"
      },
      "source": [
        "If we have comments that extend multiple lines, one way of doing it is to use hash (#) in the beginning of each line."
      ]
    },
    {
      "cell_type": "code",
      "metadata": {
        "collapsed": true,
        "id": "Wj2XcrOXA1Oo",
        "colab_type": "code",
        "colab": {}
      },
      "source": [
        "#This is a long comment\n",
        "#and it extends \n",
        "#Multiple lines"
      ],
      "execution_count": 0,
      "outputs": []
    },
    {
      "cell_type": "markdown",
      "metadata": {
        "id": "PEW3NNA5A1Ou",
        "colab_type": "text"
      },
      "source": [
        "Another way of doing this is to use triple quotes, either ''' or \"\"\"."
      ]
    },
    {
      "cell_type": "code",
      "metadata": {
        "id": "62TQJZISA1Ov",
        "colab_type": "code",
        "colab": {},
        "outputId": "a21a7f00-ffb3-43c2-b35f-e65a41d523d5"
      },
      "source": [
        "\"\"\"This is also a\n",
        "perfect example of\n",
        "multi-line comments\"\"\""
      ],
      "execution_count": 0,
      "outputs": [
        {
          "output_type": "execute_result",
          "data": {
            "text/plain": [
              "'This is also a\\nperfect example of\\nmulti-line comments'"
            ]
          },
          "metadata": {
            "tags": []
          },
          "execution_count": 3
        }
      ]
    },
    {
      "cell_type": "markdown",
      "metadata": {
        "id": "cMCU_IMRA1O1",
        "colab_type": "text"
      },
      "source": [
        "# DocString in python"
      ]
    },
    {
      "cell_type": "markdown",
      "metadata": {
        "id": "t38jXYIYA1O2",
        "colab_type": "text"
      },
      "source": [
        "Docstring is short for documentation string.\n",
        "\n",
        "It is a string that occurs as the first statement in a module, function, class, or method definition."
      ]
    },
    {
      "cell_type": "code",
      "metadata": {
        "id": "RcJcgL5OA1O3",
        "colab_type": "code",
        "colab": {},
        "outputId": "e12c6d2c-3f03-4fb3-83a1-04efa3b82797"
      },
      "source": [
        "def double(num):\n",
        "    \"\"\"\n",
        "    function to double the number\n",
        "    \"\"\"\n",
        "    return 2 * num\n",
        "\n",
        "print double(10)"
      ],
      "execution_count": 0,
      "outputs": [
        {
          "output_type": "stream",
          "text": [
            "20\n"
          ],
          "name": "stdout"
        }
      ]
    },
    {
      "cell_type": "code",
      "metadata": {
        "id": "S7ZMvyrKA1O8",
        "colab_type": "code",
        "colab": {},
        "outputId": "e8e10ee2-cb71-4823-8c96-11b1611148e1"
      },
      "source": [
        "print double.__doc__ #Docstring is available to us as the attribute __doc__ of the function"
      ],
      "execution_count": 0,
      "outputs": [
        {
          "output_type": "stream",
          "text": [
            "\n",
            "    function to double the number\n",
            "    \n"
          ],
          "name": "stdout"
        }
      ]
    },
    {
      "cell_type": "markdown",
      "metadata": {
        "id": "RcHcjEaeA1PE",
        "colab_type": "text"
      },
      "source": [
        "# Python Indentation"
      ]
    },
    {
      "cell_type": "markdown",
      "metadata": {
        "id": "0p-CL1NKA1PG",
        "colab_type": "text"
      },
      "source": [
        "1. Most of the programming languages like C, C++, Java use braces { } to define a block of code. Python uses indentation.\n",
        "\n",
        "2. A code block (body of a function, loop etc.) starts with indentation and ends with the first unindented line. The amount of indentation is up to you, but it must be consistent throughout that block.\n",
        "\n",
        "3. Generally four whitespaces are used for indentation and is preferred over tabs."
      ]
    },
    {
      "cell_type": "code",
      "metadata": {
        "id": "Ujjp-gaTA1PH",
        "colab_type": "code",
        "colab": {},
        "outputId": "66757709-1bf0-48d7-caf9-4aa45ef043dc"
      },
      "source": [
        "for i in range(10):\n",
        "    print i"
      ],
      "execution_count": 0,
      "outputs": [
        {
          "output_type": "stream",
          "text": [
            "0\n",
            "1\n",
            "2\n",
            "3\n",
            "4\n",
            "5\n",
            "6\n",
            "7\n",
            "8\n",
            "9\n"
          ],
          "name": "stdout"
        }
      ]
    },
    {
      "cell_type": "markdown",
      "metadata": {
        "id": "7ViamI00A1PN",
        "colab_type": "text"
      },
      "source": [
        "Indentation can be ignored in line continuation. But it's a good idea to always indent. It makes the code more readable."
      ]
    },
    {
      "cell_type": "code",
      "metadata": {
        "id": "DbonhvtWA1PO",
        "colab_type": "code",
        "colab": {},
        "outputId": "87a90eb0-3d9c-4cda-a504-16fae8695874"
      },
      "source": [
        "if True:\n",
        "    print \"Machine Learning\"\n",
        "    c = \"AAIC\""
      ],
      "execution_count": 0,
      "outputs": [
        {
          "output_type": "stream",
          "text": [
            "Machine Learning\n"
          ],
          "name": "stdout"
        }
      ]
    },
    {
      "cell_type": "code",
      "metadata": {
        "id": "uAu7jTx5A1PR",
        "colab_type": "code",
        "colab": {},
        "outputId": "a487379e-40c0-4bcf-dd77-a25d30c876af"
      },
      "source": [
        "if True: print \"Machine Learning\"; c = \"AAIC\""
      ],
      "execution_count": 0,
      "outputs": [
        {
          "output_type": "stream",
          "text": [
            "Machine Learning\n"
          ],
          "name": "stdout"
        }
      ]
    },
    {
      "cell_type": "markdown",
      "metadata": {
        "id": "rXYXR5RcA1PV",
        "colab_type": "text"
      },
      "source": [
        "# Python Statement"
      ]
    },
    {
      "cell_type": "markdown",
      "metadata": {
        "id": "o_EgsvWiA1PW",
        "colab_type": "text"
      },
      "source": [
        "Instructions that a Python interpreter can execute are called statements."
      ]
    },
    {
      "cell_type": "markdown",
      "metadata": {
        "id": "bfFSFs15A1PX",
        "colab_type": "text"
      },
      "source": [
        "Examples:"
      ]
    },
    {
      "cell_type": "code",
      "metadata": {
        "collapsed": true,
        "id": "5cRADdrJA1PX",
        "colab_type": "code",
        "colab": {}
      },
      "source": [
        " a = 1  #single statement"
      ],
      "execution_count": 0,
      "outputs": []
    },
    {
      "cell_type": "markdown",
      "metadata": {
        "id": "lU-m8F_eA1Pb",
        "colab_type": "text"
      },
      "source": [
        "# Multi-Line Statement"
      ]
    },
    {
      "cell_type": "markdown",
      "metadata": {
        "id": "gGxKASh6A1Pc",
        "colab_type": "text"
      },
      "source": [
        "In Python, end of a statement is marked by a newline character. But we can make a statement extend over multiple lines with the line continuation character (\\)."
      ]
    },
    {
      "cell_type": "code",
      "metadata": {
        "collapsed": true,
        "id": "lEGcOf_hA1Pc",
        "colab_type": "code",
        "colab": {}
      },
      "source": [
        "a = 1 + 2 + 3 + \\\n",
        "    4 + 5 + 6 + \\\n",
        "    7 + 8"
      ],
      "execution_count": 0,
      "outputs": []
    },
    {
      "cell_type": "code",
      "metadata": {
        "id": "dhHDBqVUA1Pg",
        "colab_type": "code",
        "colab": {},
        "outputId": "567270d8-0125-4952-bc12-1898e2cab38c"
      },
      "source": [
        "print a"
      ],
      "execution_count": 0,
      "outputs": [
        {
          "output_type": "stream",
          "text": [
            "36\n"
          ],
          "name": "stdout"
        }
      ]
    },
    {
      "cell_type": "code",
      "metadata": {
        "id": "yXCmxS0rA1Pj",
        "colab_type": "code",
        "colab": {},
        "outputId": "144b153b-0887-4973-e90f-75267ec2d621"
      },
      "source": [
        "#another way is\n",
        "a = (1 + 2 + 3 +\n",
        "    4 + 5 + 6 + \n",
        "    7 + 8)\n",
        "print a"
      ],
      "execution_count": 0,
      "outputs": [
        {
          "output_type": "stream",
          "text": [
            "36\n"
          ],
          "name": "stdout"
        }
      ]
    },
    {
      "cell_type": "code",
      "metadata": {
        "collapsed": true,
        "id": "rtWI9LTmA1Pn",
        "colab_type": "code",
        "colab": {}
      },
      "source": [
        "a = 10; b = 20; c = 30   #put multiple statements in a single line using ;"
      ],
      "execution_count": 0,
      "outputs": []
    }
  ]
}