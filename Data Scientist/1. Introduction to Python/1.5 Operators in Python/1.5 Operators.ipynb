{
  "nbformat": 4,
  "nbformat_minor": 0,
  "metadata": {
    "kernelspec": {
      "display_name": "Python 2",
      "language": "python",
      "name": "python2"
    },
    "language_info": {
      "codemirror_mode": {
        "name": "ipython",
        "version": 2
      },
      "file_extension": ".py",
      "mimetype": "text/x-python",
      "name": "python",
      "nbconvert_exporter": "python",
      "pygments_lexer": "ipython2",
      "version": "2.7.10"
    },
    "colab": {
      "name": "1.6.ipynb",
      "provenance": [],
      "include_colab_link": true
    }
  },
  "cells": [
    {
      "cell_type": "markdown",
      "metadata": {
        "id": "view-in-github",
        "colab_type": "text"
      },
      "source": [
        "<a href=\"https://colab.research.google.com/github/RajaramKankipati/Udemy/blob/master/1.5%20Operators.ipynb\" target=\"_parent\"><img src=\"https://colab.research.google.com/assets/colab-badge.svg\" alt=\"Open In Colab\"/></a>"
      ]
    },
    {
      "cell_type": "markdown",
      "metadata": {
        "id": "n0f56fbpJ1Up",
        "colab_type": "text"
      },
      "source": [
        "# Operators"
      ]
    },
    {
      "cell_type": "markdown",
      "metadata": {
        "id": "Oz2PAMwsJ1Uq",
        "colab_type": "text"
      },
      "source": [
        "Operators are special symbols in Python that carry out arithmetic or logical computation. The value that the operator operates on is called the operand."
      ]
    },
    {
      "cell_type": "markdown",
      "metadata": {
        "id": "PJMx43sfJ1Ur",
        "colab_type": "text"
      },
      "source": [
        "# Operator Types"
      ]
    },
    {
      "cell_type": "markdown",
      "metadata": {
        "id": "pcO7CWqyJ1Ur",
        "colab_type": "text"
      },
      "source": [
        "1. Arithmetic operators\n",
        "    \n",
        "2. Comparison (Relational) operators\n",
        "\n",
        "3. Logical (Boolean) operators\n",
        "\n",
        "4. Bitwise operators\n",
        "\n",
        "5. Assignment operators\n",
        "\n",
        "6. Special operators"
      ]
    },
    {
      "cell_type": "markdown",
      "metadata": {
        "id": "MRF8HnAtJ1Us",
        "colab_type": "text"
      },
      "source": [
        "# Arithmetic Operators"
      ]
    },
    {
      "cell_type": "markdown",
      "metadata": {
        "id": "G03zZuqwJ1Ut",
        "colab_type": "text"
      },
      "source": [
        "Arithmetic operators are used to perform mathematical operations like addition, subtraction, multiplication etc."
      ]
    },
    {
      "cell_type": "markdown",
      "metadata": {
        "id": "hG3LS43XJ1Uu",
        "colab_type": "text"
      },
      "source": [
        "    + , -, *, /, %, //, **  are arithmetic operators"
      ]
    },
    {
      "cell_type": "markdown",
      "metadata": {
        "id": "v0HOVRLSJ1Uu",
        "colab_type": "text"
      },
      "source": [
        "Example:"
      ]
    },
    {
      "cell_type": "code",
      "metadata": {
        "id": "ZmcDhVfNJ1Uv",
        "colab_type": "code",
        "colab": {},
        "outputId": "cc552637-0b4b-4f87-a065-7e4b3a064cbd"
      },
      "source": [
        "x, y = 10, 20\n",
        "\n",
        "#addition\n",
        "print(x + y)\n",
        "\n",
        "#subtraction(-)\n",
        "\n",
        "#multiplication(*)\n",
        "\n",
        "#division(/)\n",
        "\n",
        "#modulo division (%)\n",
        "\n",
        "#Floor Division (//)\n",
        "\n",
        "#Exponent (**)"
      ],
      "execution_count": 0,
      "outputs": [
        {
          "output_type": "stream",
          "text": [
            "30\n"
          ],
          "name": "stdout"
        }
      ]
    },
    {
      "cell_type": "markdown",
      "metadata": {
        "id": "gQTQvttOJ1U2",
        "colab_type": "text"
      },
      "source": [
        "# Comparision Operators"
      ]
    },
    {
      "cell_type": "markdown",
      "metadata": {
        "id": "6HZ95rIqJ1U2",
        "colab_type": "text"
      },
      "source": [
        "Comparison operators are used to compare values. It either returns True or False according to the condition."
      ]
    },
    {
      "cell_type": "markdown",
      "metadata": {
        "id": "0mb9-UP7J1U4",
        "colab_type": "text"
      },
      "source": [
        "    >, <, ==, !=, >=, <= are comparision operators"
      ]
    },
    {
      "cell_type": "code",
      "metadata": {
        "id": "KkSSvzyRJ1U4",
        "colab_type": "code",
        "colab": {},
        "outputId": "c202036f-7c99-4a33-add0-cd248de3feb9"
      },
      "source": [
        "a, b = 10, 20         \n",
        "\n",
        "print(a < b)  #check a is less than b\n",
        "\n",
        "#check a is greater than b\n",
        "\n",
        "#check a is equal to b\n",
        "\n",
        "#check a is not equal to b (!=)\n",
        "\n",
        "#check a greater than or equal to b\n",
        "\n",
        "#check a less than or equal to b\n"
      ],
      "execution_count": 0,
      "outputs": [
        {
          "output_type": "stream",
          "text": [
            "True\n"
          ],
          "name": "stdout"
        }
      ]
    },
    {
      "cell_type": "markdown",
      "metadata": {
        "id": "ubQ-MFMOJ1U8",
        "colab_type": "text"
      },
      "source": [
        "# Logical Operators"
      ]
    },
    {
      "cell_type": "markdown",
      "metadata": {
        "id": "pC9ZdbGzJ1U9",
        "colab_type": "text"
      },
      "source": [
        "Logical operators are  **and, or, not** operators."
      ]
    },
    {
      "cell_type": "code",
      "metadata": {
        "id": "XqeWH3mKJ1U9",
        "colab_type": "code",
        "colab": {},
        "outputId": "f10b2eb6-5946-4857-9102-1e3456262d56"
      },
      "source": [
        "a, b = True, False\n",
        "\n",
        "#print a and b\n",
        "print(a and b)\n",
        "\n",
        "#print a or b\n",
        "\n",
        "#print not b\n"
      ],
      "execution_count": 0,
      "outputs": [
        {
          "output_type": "stream",
          "text": [
            "False\n"
          ],
          "name": "stdout"
        }
      ]
    },
    {
      "cell_type": "markdown",
      "metadata": {
        "id": "2YOUKscnJ1VA",
        "colab_type": "text"
      },
      "source": [
        "# Bitwise operators"
      ]
    },
    {
      "cell_type": "markdown",
      "metadata": {
        "id": "MrGBlc0AJ1VB",
        "colab_type": "text"
      },
      "source": [
        "Bitwise operators act on operands as if they were string of binary digits. It operates bit by bit"
      ]
    },
    {
      "cell_type": "markdown",
      "metadata": {
        "id": "9yURGzU6J1VB",
        "colab_type": "text"
      },
      "source": [
        "    &,  |,  ~,  ^,  >>,  << are Bitwise operators"
      ]
    },
    {
      "cell_type": "code",
      "metadata": {
        "id": "wEc-fSy5J1VC",
        "colab_type": "code",
        "colab": {},
        "outputId": "eb672c25-a25c-4aa1-b1c5-46c9acf3e5c1"
      },
      "source": [
        "a, b = 10, 4\n",
        "\n",
        "#Bitwise AND\n",
        "print(a & b)\n",
        "\n",
        "#Bitwise OR\n",
        "\n",
        "\n",
        "#Bitwise NOT\n",
        "\n",
        "\n",
        "#Bitwise XOR\n",
        "\n",
        "\n",
        "#Bitwise rightshift\n",
        "\n",
        "\n",
        "#Bitwise Leftshift\n"
      ],
      "execution_count": 0,
      "outputs": [
        {
          "output_type": "stream",
          "text": [
            "0\n"
          ],
          "name": "stdout"
        }
      ]
    },
    {
      "cell_type": "markdown",
      "metadata": {
        "id": "xUzTk2gOJ1VG",
        "colab_type": "text"
      },
      "source": [
        "# Assignment operators"
      ]
    },
    {
      "cell_type": "markdown",
      "metadata": {
        "id": "MPj2KCogJ1VH",
        "colab_type": "text"
      },
      "source": [
        "Assignment operators are used in Python to assign values to variables.\n",
        "\n",
        "a = 5 is a simple assignment operator that assigns the value 5 on the right to the variable a on the left."
      ]
    },
    {
      "cell_type": "markdown",
      "metadata": {
        "id": "_XjYYPYJJ1VI",
        "colab_type": "text"
      },
      "source": [
        "    =,  +=,  -=,  *=,  /=,  %=,  //=,  **=, &=,  |=,  ^=,  >>=,  <<= are Assignment operators"
      ]
    },
    {
      "cell_type": "code",
      "metadata": {
        "id": "-m4t4bblJ1VJ",
        "colab_type": "code",
        "colab": {},
        "outputId": "21738ba1-87aa-470b-9ea2-e44ddf839583"
      },
      "source": [
        "a = 10\n",
        "\n",
        "a += 10         #add AND\n",
        "print(a)\n",
        "\n",
        "#subtract AND (-=)\n",
        "\n",
        "#Multiply AND (*=)\n",
        "\n",
        "#Divide AND (/=)\n",
        "\n",
        "#Modulus AND (%=)\n",
        "\n",
        "#Floor Division (//=)\n",
        "\n",
        "#Exponent AND (**=)\n"
      ],
      "execution_count": 0,
      "outputs": [
        {
          "output_type": "stream",
          "text": [
            "20\n"
          ],
          "name": "stdout"
        }
      ]
    },
    {
      "cell_type": "markdown",
      "metadata": {
        "id": "JslybWd_J1VN",
        "colab_type": "text"
      },
      "source": [
        "# Special Operators"
      ]
    },
    {
      "cell_type": "markdown",
      "metadata": {
        "id": "KKAoV_NrJ1VO",
        "colab_type": "text"
      },
      "source": [
        "# Identity Operators"
      ]
    },
    {
      "cell_type": "markdown",
      "metadata": {
        "id": "c5A9F8QuJ1VO",
        "colab_type": "text"
      },
      "source": [
        "**is and is not** are the identity operators in Python. \n",
        "\n",
        "They are used to check if two values (or variables) are located on the same part of the memory."
      ]
    },
    {
      "cell_type": "code",
      "metadata": {
        "id": "1yxuBO4_J1VP",
        "colab_type": "code",
        "colab": {},
        "outputId": "82049aaf-2870-49cd-d684-be94990c32f4"
      },
      "source": [
        "a = 5\n",
        "b = 5\n",
        "print(a is b)    #5 is object created once both a and b points to same object\n",
        "\n",
        "#check is not"
      ],
      "execution_count": 0,
      "outputs": [
        {
          "output_type": "stream",
          "text": [
            "True\n"
          ],
          "name": "stdout"
        }
      ]
    },
    {
      "cell_type": "code",
      "metadata": {
        "id": "eP7UDh1RJ1VS",
        "colab_type": "code",
        "colab": {},
        "outputId": "9f6512fe-e145-44cf-fe0a-960eb9a5b764"
      },
      "source": [
        "l1 = [1, 2, 3]\n",
        "l2 = [1, 2, 3]\n",
        "print(l1 is l2)"
      ],
      "execution_count": 0,
      "outputs": [
        {
          "output_type": "stream",
          "text": [
            "False\n"
          ],
          "name": "stdout"
        }
      ]
    },
    {
      "cell_type": "code",
      "metadata": {
        "id": "tvegwiP4J1VW",
        "colab_type": "code",
        "colab": {},
        "outputId": "915cc5a2-126a-4986-9208-88d406077194"
      },
      "source": [
        "s1 = \"Satish\"\n",
        "s2 = \"Satish\"\n",
        "print(s1 is not s2)"
      ],
      "execution_count": 0,
      "outputs": [
        {
          "output_type": "stream",
          "text": [
            "False\n"
          ],
          "name": "stdout"
        }
      ]
    },
    {
      "cell_type": "markdown",
      "metadata": {
        "id": "1mIlaX0SJ1VZ",
        "colab_type": "text"
      },
      "source": [
        "# MemberShip Operators"
      ]
    },
    {
      "cell_type": "markdown",
      "metadata": {
        "id": "Y5UVZSNkJ1Va",
        "colab_type": "text"
      },
      "source": [
        "**in and not in** are the membership operators in Python. \n",
        "    \n",
        "They are used to test whether a value or variable is found in a sequence (string, list, tuple, set and   dictionary)."
      ]
    },
    {
      "cell_type": "code",
      "metadata": {
        "id": "oPfM7lG0J1Vb",
        "colab_type": "code",
        "colab": {},
        "outputId": "f96707fe-1152-4f97-cfb4-b8ceb3335fba"
      },
      "source": [
        "lst = [1, 2, 3, 4]\n",
        "print(1 in lst)       #check 1 is present in a given list or not\n",
        "\n",
        "#check 5 is present in a given list\n"
      ],
      "execution_count": 0,
      "outputs": [
        {
          "output_type": "stream",
          "text": [
            "True\n"
          ],
          "name": "stdout"
        }
      ]
    },
    {
      "cell_type": "code",
      "metadata": {
        "id": "qqVL62fIJ1Ve",
        "colab_type": "code",
        "colab": {},
        "outputId": "4cf92b9c-1800-462c-f8c8-bbdfbc20d338"
      },
      "source": [
        "d = {1: \"a\", 2: \"b\"}\n",
        "print(1 in d)"
      ],
      "execution_count": 0,
      "outputs": [
        {
          "output_type": "stream",
          "text": [
            "True\n"
          ],
          "name": "stdout"
        }
      ]
    }
  ]
}