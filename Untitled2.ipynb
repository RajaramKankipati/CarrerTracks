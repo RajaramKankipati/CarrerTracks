{
  "nbformat": 4,
  "nbformat_minor": 0,
  "metadata": {
    "colab": {
      "name": "Untitled2.ipynb",
      "provenance": [],
      "authorship_tag": "ABX9TyMyb8MeZeX0gbJQRLh3zcxF",
      "include_colab_link": true
    },
    "kernelspec": {
      "name": "python3",
      "display_name": "Python 3"
    }
  },
  "cells": [
    {
      "cell_type": "markdown",
      "metadata": {
        "id": "view-in-github",
        "colab_type": "text"
      },
      "source": [
        "<a href=\"https://colab.research.google.com/github/RajaramKankipati/CarrerTracks/blob/master/Untitled2.ipynb\" target=\"_parent\"><img src=\"https://colab.research.google.com/assets/colab-badge.svg\" alt=\"Open In Colab\"/></a>"
      ]
    },
    {
      "cell_type": "code",
      "metadata": {
        "id": "DsM6hoOmJL-X",
        "colab_type": "code",
        "colab": {
          "base_uri": "https://localhost:8080/",
          "height": 50
        },
        "outputId": "385c4bf8-9204-46ce-fc43-b5ae27f10ee0"
      },
      "source": [
        "!git clone https://github.wdf.sap.corp/tech-know-school/Machine-Learning.git"
      ],
      "execution_count": null,
      "outputs": [
        {
          "output_type": "stream",
          "text": [
            "Cloning into 'Machine-Learning'...\n",
            "fatal: unable to access 'https://github.wdf.sap.corp/tech-know-school/Machine-Learning.git/': Could not resolve host: github.wdf.sap.corp\n"
          ],
          "name": "stdout"
        }
      ]
    }
  ]
}